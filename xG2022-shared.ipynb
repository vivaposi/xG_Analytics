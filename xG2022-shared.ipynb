{
 "cells": [
  {
   "cell_type": "code",
   "execution_count": 2,
   "id": "87015175-116d-4e3b-973e-fc92a8cc9058",
   "metadata": {},
   "outputs": [],
   "source": [
    "# Import libraries\n",
    "\n",
    "import pandas as pd\n",
    "import numpy as np\n",
    "import matplotlib.pyplot as plt\n",
    "import seaborn as sns\n",
    "import statsmodels.formula.api as smf\n",
    "import statsmodels.api as sm\n",
    "import xgboost\n",
    "from xgboost import XGBClassifier\n",
    "from sklearn.metrics import confusion_matrix\n",
    "from sklearn.model_selection import train_test_split, GridSearchCV\n",
    "import scipy\n",
    "import random\n",
    "import pickle\n",
    "import joblib"
   ]
  },
  {
   "cell_type": "code",
   "execution_count": 3,
   "id": "8ceed472-6524-4e0a-87f9-ec7d5b9058b8",
   "metadata": {},
   "outputs": [],
   "source": [
    "#Import model and data\n",
    "\n",
    "xreb = pickle.load(open(\"/log_xrebounds.pkl\", 'rb'))\n",
    "xg_model=pickle.load(open(\"/xgboost_xg.pkl\", 'rb'))\n",
    "shots_sorted=pd.read_csv(r'/shots_2022.csv')"
   ]
  },
  {
   "cell_type": "code",
   "execution_count": null,
   "id": "f2d8372f-253f-4e28-bef1-0eaf23bb0dee",
   "metadata": {},
   "outputs": [],
   "source": [
    "pd.set_option('display.max_columns', None)\n",
    "pd.set_option('display.max_rows', 15)"
   ]
  },
  {
   "cell_type": "code",
   "execution_count": null,
   "id": "a85ddc08-0b17-4d80-8b4d-d33f7c67f371",
   "metadata": {},
   "outputs": [],
   "source": [
    "def conditions(shots_sorted):\n",
    "    if (shots_sorted['team'] == 'HOME'):\n",
    "        return shots_sorted['awayTeamCode']\n",
    "    else:\n",
    "        return shots_sorted['homeTeamCode']"
   ]
  },
  {
   "cell_type": "code",
   "execution_count": null,
   "id": "232a923d-896d-4343-b94f-c5846217bc29",
   "metadata": {},
   "outputs": [],
   "source": [
    "def new_conditions(shots_sorted):\n",
    "    if (shots_sorted['homeTeamWon'] == 1):\n",
    "        return shots_sorted['homeTeamCode']\n",
    "    else:\n",
    "        return shots_sorted['awayTeamCode']"
   ]
  },
  {
   "cell_type": "code",
   "execution_count": null,
   "id": "045cff71-dbaf-49a5-b67c-4e1e6c52c189",
   "metadata": {},
   "outputs": [],
   "source": [
    "# Create function to clean dataset\n",
    "\n",
    "def clean_data(shots_sorted):\n",
    "\n",
    "    \"\"\"\n",
    "    1. clean the shots data\n",
    "    2. add new necessary columns\n",
    "    \"\"\"\n",
    "    ###add shot types\n",
    "    shots_sorted['type_backhand']=np.where(shots_sorted['shotType'] == 'BACK', 1,0)\n",
    "    shots_sorted['type_wrist']=np.where(shots_sorted['shotType'] == 'WRIST',1,0)\n",
    "    shots_sorted['type_slap']=np.where(shots_sorted['shotType'] == 'SLAP',1,0)\n",
    "    shots_sorted['type_tipin']=np.where(shots_sorted['shotType'] == 'TIP',1,0)\n",
    "    shots_sorted['type_deflect']=np.where(shots_sorted['shotType'] == 'DEFL',1,0)\n",
    "    shots_sorted['type_wrap']=np.where(shots_sorted['shotType'] == 'WRAP',1,0)\n",
    "    shots_sorted['type_snap']=np.where(shots_sorted['shotType'] == 'SNAP',1,0)\n",
    "    shots_sorted['shotType'].fillna(\"NA\", inplace=True)\n",
    "    \n",
    "    #add strengths\n",
    "    shots_sorted['strength_3x3']=np.where((shots_sorted['homeSkatersOnIce'] == 3) & (shots_sorted['awaySkatersOnIce'] == 3),1,0)\n",
    "    shots_sorted['strength_3x4']=np.where((shots_sorted['homeSkatersOnIce'] == 3) & (shots_sorted['awaySkatersOnIce'] == 4),1,0)\n",
    "    shots_sorted['strength_3x5']=np.where((shots_sorted['homeSkatersOnIce'] == 3) & (shots_sorted['awaySkatersOnIce'] == 5),1,0)\n",
    "    shots_sorted['strength_3x6']=np.where((shots_sorted['homeSkatersOnIce'] == 3) & (shots_sorted['awaySkatersOnIce'] == 6),1,0)\n",
    "    shots_sorted['strength_4x3']=np.where((shots_sorted['homeSkatersOnIce'] == 4) & (shots_sorted['awaySkatersOnIce'] == 3),1,0)\n",
    "    shots_sorted['strength_4x4']=np.where((shots_sorted['homeSkatersOnIce'] == 4) & (shots_sorted['awaySkatersOnIce'] == 4),1,0)\n",
    "    shots_sorted['strength_4x5']=np.where((shots_sorted['homeSkatersOnIce'] == 4) & (shots_sorted['awaySkatersOnIce'] == 5),1,0)\n",
    "    shots_sorted['strength_4x6']=np.where((shots_sorted['homeSkatersOnIce'] == 4) & (shots_sorted['awaySkatersOnIce'] == 6),1,0)\n",
    "    shots_sorted['strength_5x3']=np.where((shots_sorted['homeSkatersOnIce'] == 5) & (shots_sorted['awaySkatersOnIce'] == 3),1,0)\n",
    "    shots_sorted['strength_5x4']=np.where((shots_sorted['homeSkatersOnIce'] == 5) & (shots_sorted['awaySkatersOnIce'] == 4),1,0)\n",
    "    shots_sorted['strength_5x5']=np.where((shots_sorted['homeSkatersOnIce'] == 5) & (shots_sorted['awaySkatersOnIce'] == 5),1,0)\n",
    "    shots_sorted['strength_5x6']=np.where((shots_sorted['homeSkatersOnIce'] == 5) & (shots_sorted['awaySkatersOnIce'] == 6),1,0)\n",
    "    shots_sorted['strength_6x3']=np.where((shots_sorted['homeSkatersOnIce'] == 6) & (shots_sorted['awaySkatersOnIce'] == 3),1,0)\n",
    "    shots_sorted['strength_6x4']=np.where((shots_sorted['homeSkatersOnIce'] == 6) & (shots_sorted['awaySkatersOnIce'] == 4),1,0)\n",
    "    shots_sorted['strength_6x5']=np.where((shots_sorted['homeSkatersOnIce'] == 6) & (shots_sorted['awaySkatersOnIce'] == 5),1,0)\n",
    "\n",
    "    ### add column for forward\n",
    "    shots_sorted['isforward'] = np.where(shots_sorted['playerPositionThatDidEvent'].isin([\"LW\", \"RW\", \"C\"]), 1, 0)\n",
    "\n",
    "    ### remove playoffs & shootouts\n",
    "    shots_sorted=shots_sorted[shots_sorted.isPlayoffGame != 1]\n",
    "\n",
    "    ### remove goalie shots\n",
    "    shots_sorted['goalieNameForShot'].fillna(\"Empty\", inplace=True)\n",
    "   \n",
    "\n",
    "    ### add outcomes\n",
    "    shots_sorted['Outcome'] = np.where(shots_sorted['event'] == \"GOAL\", 2, np.where(shots_sorted['event'] == \"SHOT\", 1, np.where(shots_sorted['event'] == \"MISS\", 0, 3)))\n",
    "    shots_sorted = shots_sorted[shots_sorted['Outcome'] != 3]\n",
    "\n",
    "    # Change giveaway to takeaway for other team\n",
    "    shots_sorted['lastEventTeam'] = np.where(shots_sorted['lastEventCategory'] != \"GIVE\", shots_sorted[\"lastEventTeam\"],np.where(shots_sorted['lastEventTeam'] == 'HOME', 'AWAY', 'HOME'))\n",
    "    shots_sorted['lastEventCategory'] = np.where(shots_sorted['lastEventCategory'] == \"GIVE\", \"TAKE\", shots_sorted['lastEventCategory'])\n",
    "\n",
    "    ### add column for same team events\n",
    "    shots_sorted['if_prev_ev_team'] = np.where(shots_sorted['team'] == shots_sorted['lastEventTeam'], 1, 0)\n",
    "\n",
    "    # Get if last event was by event team for specified events\n",
    "    shots_sorted['prev_evTeam_Fac'] = np.where((shots_sorted['if_prev_ev_team'] == 1) & (shots_sorted['lastEventCategory'] == \"FAC\"), 1, 0)\n",
    "    shots_sorted['prev_evTeam_NonSog'] = np.where((shots_sorted['if_prev_ev_team'] == 1) & (shots_sorted['lastEventCategory'].isin([\"MISS\", \"BLOCK\"])), 1, 0)\n",
    "    shots_sorted['prev_evTeam_NonShot'] = np.where((shots_sorted['if_prev_ev_team'] == 1) & (shots_sorted['lastEventCategory'].isin([\"TAKE\", \"HIT\"])), 1, 0)\n",
    "    shots_sorted['prev_evTeam_Sog'] = np.where((shots_sorted['if_prev_ev_team'] == 1) & (shots_sorted['lastEventCategory'] == \"SHOT\"), 1, 0)\n",
    "\n",
    "    # Get if last event was by non-event team for specified events\n",
    "    shots_sorted['prev_non_evTeam_Fac'] = np.where((shots_sorted['if_prev_ev_team'] == 0) & (shots_sorted['lastEventCategory'] == \"FAC\"), 1, 0)\n",
    "    shots_sorted['prev_non_evTeam_NonSog'] = np.where((shots_sorted['if_prev_ev_team'] == 0) & (shots_sorted['lastEventCategory'].isin([\"MISS\", \"BLOCK\"])),1, 0)\n",
    "    shots_sorted['prev_non_evTeam_NonShot'] = np.where((shots_sorted['if_prev_ev_team'] == 0) & (shots_sorted['lastEventCategory'].isin([\"TAKE\", \"HIT\"])), 1,0)\n",
    "    shots_sorted['prev_non_evTeam_Sog'] = np.where((shots_sorted['if_prev_ev_team'] == 0) & (shots_sorted['lastEventCategory'] == \"SHOT\"), 1, 0)\n",
    "\n",
    "    ### add column for non-SOG rebounds\n",
    "    shots_sorted['non_sog_rebound'] = np.where((shots_sorted['lastEventCategory'].isin([\"MISS\", \"BLOCK\"])) & (shots_sorted['timeUntilNextEvent'] <= 2.0)& (shots_sorted['team'] == shots_sorted['lastEventTeam']), 1, 0)\n",
    "    \n",
    "    \n",
    "    ### add goalie categories\n",
    "    shots_sorted['goalieTeam'] = shots_sorted.apply(conditions, axis=1)\n",
    "    shots_sorted['teamWin'] = shots_sorted.apply(new_conditions, axis=1)\n",
    "    shots_sorted['goalieWin'] = shots_sorted.apply(goalie_win, axis=1)\n",
    "\n",
    "    ### add score categories\n",
    "    ### stop at +3 and -3\n",
    "    shots_sorted['score_cat'] = np.where(shots_sorted['homeTeamGoals'] - shots_sorted['awayTeamGoals'] >= 3, 3, np.where(shots_sorted['homeTeamGoals'] - shots_sorted['awayTeamGoals'] <= -3, -3, shots_sorted['homeTeamGoals'] - shots_sorted['awayTeamGoals']))\n",
    "    shots_sorted['score_cat'] = np.where(shots_sorted['teamCode'] == shots_sorted['isHomeTeam'], shots_sorted['score_cat'], -shots_sorted['score_cat'])\n",
    "    shots_sorted['score_cat_3'] = np.where((shots_sorted['score_cat'] >= 3), 1, 0)\n",
    "    shots_sorted['score_cat_2'] = np.where((shots_sorted['score_cat'] == 2), 1, 0)\n",
    "    shots_sorted['score_cat_1'] = np.where((shots_sorted['score_cat'] == 1), 1, 0)\n",
    "    shots_sorted['score_cat_0'] = np.where((shots_sorted['score_cat'] == 0), 1, 0)\n",
    "    shots_sorted['score_cat_-1'] = np.where((shots_sorted['score_cat'] == -1), 1, 0)\n",
    "    shots_sorted['score_cat_-2'] = np.where((shots_sorted['score_cat'] == -2), 1, 0)\n",
    "    shots_sorted['score_cat_-3'] = np.where((shots_sorted['score_cat'] <= -3), 1, 0)\n",
    "\n",
    "\n",
    "    ### drop dupes\n",
    "    shots_sorted = shots_sorted[shots_sorted[\"arenaAdjustedXCord\"].notnull()]\n",
    "    shots_sorted = shots_sorted[shots_sorted[\"arenaAdjustedYCord\"].notnull()]\n",
    "    shots_sorted = shots_sorted[shots_sorted[\"lastEventxCord_adjusted\"].notnull()]\n",
    "    shots_sorted = shots_sorted[shots_sorted[\"lastEventyCord_adjusted\"].notnull()]\n",
    "    \n",
    "\n",
    "    return shots_sorted\n",
    "\n",
    "shots_sorted=clean_data(shots_sorted)\n",
    "display(shots_sorted)"
   ]
  },
  {
   "cell_type": "code",
   "execution_count": null,
   "id": "0741c7c7-6333-4faf-b022-2a8b2374253e",
   "metadata": {},
   "outputs": [],
   "source": [
    "# Convert data to model format\n",
    "\n",
    "data = shots_sorted\n",
    "    \n",
    "data['Outcome'] = np.where(shots_sorted['Outcome'] == 0, 0, np.where(shots_sorted['Outcome'] == 1, 0, np.where(shots_sorted['Outcome'] == 2, 1, 3)))\n",
    "data = shots_sorted[shots_sorted['Outcome'] != 3]\n",
    "\n",
    "####Convert the data to use in model\n",
    "all_variables = ['arenaAdjustedShotDistance', 'arenaAdjustedXCord','lastEventxCord_adjusted','arenaAdjustedYCord','lastEventyCord_adjusted','shotAngleAdjusted','awayEmptyNet', 'homeEmptyNet', 'speedFromLastEvent', 'shotAnglePlusReboundSpeed','distanceFromLastEvent', 'timeSinceLastEvent','type_backhand', 'type_deflect', 'type_slap','type_snap', 'type_tipin', 'type_wrap', 'type_wrist','strength_3x3','strength_3x4', 'strength_3x5', 'strength_3x6', 'strength_4x3','strength_4x4', 'strength_4x5', 'strength_4x6', 'strength_5x3','strength_5x4', 'strength_5x5', 'strength_5x6', 'strength_6x3', 'strength_6x4', 'strength_6x5','score_cat_-3', 'score_cat_-2', 'score_cat_-1', 'score_cat_0', 'score_cat_1', 'score_cat_2', 'score_cat_3','isforward','isHomeTeam','prev_evTeam_Fac', 'prev_evTeam_NonSog', 'prev_evTeam_NonShot', 'prev_evTeam_Sog','prev_non_evTeam_Fac', 'prev_non_evTeam_NonSog', 'prev_non_evTeam_NonShot', 'prev_non_evTeam_Sog']\n",
    "\n",
    "categorical_variables = ['shotType', 'score_cat', 'lastEventCategory']\n",
    "labels = ['Outcome']\n",
    "\n",
    "df_dummies = pd.get_dummies(data, columns=categorical_variables)\n",
    "model_df = df_dummies[all_variables + [\"Outcome\"]]\n",
    "\n",
    "model_features = model_df[all_variables].values.tolist()\n",
    "model_labels = model_df[labels].values.tolist()\n",
    "\n",
    "# Convert to lists\n",
    "features=model_features\n",
    "labels=model_labels\n",
    "\n",
    "# Split into training and testing sets -> 80/20\n",
    "features_train, features_test, labels_train, labels_test = train_test_split(features, labels, test_size=.2, random_state=42)\n",
    "\n",
    "# Fix Data\n",
    "features_train, labels_train = np.array(features_train), np.array(labels_train).ravel()"
   ]
  },
  {
   "cell_type": "code",
   "execution_count": null,
   "id": "051476bb-2964-404a-97e4-f37b92b704b3",
   "metadata": {},
   "outputs": [],
   "source": [
    "# Use model to calculate goal probability of all shots\n",
    "\n",
    "xgboost_predict=xg_model.predict_proba(features)"
   ]
  },
  {
   "cell_type": "code",
   "execution_count": null,
   "id": "09abbc72-9a3d-42e5-ba47-7ef7d2a5114e",
   "metadata": {
    "tags": []
   },
   "outputs": [],
   "source": [
    "# Create dataframe of probabilities\n",
    "\n",
    "xgb=data[['Outcome', 'shotID']]\n",
    "xgpredict=pd.DataFrame(xgboost_predict, columns=['0','1'])\n",
    "xgb=xgb.join(xgpredict, how='right')\n",
    "xgb.dropna(inplace=True)\n",
    "display(xgb)"
   ]
  },
  {
   "cell_type": "code",
   "execution_count": null,
   "id": "11c5eddb-391f-47cf-b7da-03ca83994961",
   "metadata": {
    "tags": []
   },
   "outputs": [],
   "source": [
    "# Merge xGoal probabilities into main dataset\n",
    "\n",
    "xgb=xgb.rename(columns={\"0\":\"xNotGoal\",\"1\":\"xGoal\"})\n",
    "xgb=xgb.drop(columns=[\"Outcome\", \"shotID\", \"xNotGoal\"])\n",
    "xgboost_xg=xgb.join(shots_sorted, how='left')\n",
    "xgboost_xg['GSAx'] = xgboost_xg['xGoal'] - xgboost_xg['goal']\n",
    "xgboost_xg['shot_attempt'] = 1\n",
    "display(xgboost_xg)"
   ]
  },
  {
   "cell_type": "code",
   "execution_count": null,
   "id": "6cd146c6-6a97-4b19-80ee-d474396fc513",
   "metadata": {},
   "outputs": [],
   "source": [
    "data = shots_sorted\n",
    "    \n",
    "data['shotGeneratedRebound'] = np.where(data['shotGeneratedRebound'] == 0, 0, np.where(data['shotGeneratedRebound'] == 1, 1, 2))\n",
    "data = data[data['shotGeneratedRebound'] != 2]\n",
    "\n",
    "####Convert the data to use in model\n",
    "all_variables = ['arenaAdjustedShotDistance', 'arenaAdjustedXCord','lastEventxCord_adjusted','arenaAdjustedYCord','lastEventyCord_adjusted','shotAngleAdjusted','awayEmptyNet', 'homeEmptyNet', 'speedFromLastEvent', 'shotAnglePlusReboundSpeed','distanceFromLastEvent', 'timeSinceLastEvent','type_backhand', 'type_deflect', 'type_slap','type_snap', 'type_tipin', 'type_wrap', 'type_wrist','strength_3x3','strength_3x4', 'strength_3x5', 'strength_3x6', 'strength_4x3','strength_4x4', 'strength_4x5', 'strength_4x6', 'strength_5x3','strength_5x4', 'strength_5x5', 'strength_5x6', 'strength_6x3', 'strength_6x4', 'strength_6x5','score_cat_-3', 'score_cat_-2', 'score_cat_-1', 'score_cat_0', 'score_cat_1', 'score_cat_2', 'score_cat_3','isforward','isHomeTeam','prev_evTeam_Fac', 'prev_evTeam_NonSog', 'prev_evTeam_NonShot', 'prev_evTeam_Sog','prev_non_evTeam_Fac', 'prev_non_evTeam_NonSog', 'prev_non_evTeam_NonShot', 'prev_non_evTeam_Sog']\n",
    "\n",
    "categorical_variables = ['shotType', 'score_cat', 'lastEventCategory']\n",
    "labels = ['shotGeneratedRebound']\n",
    "\n",
    "df_dummies = pd.get_dummies(data, columns=categorical_variables)\n",
    "model_df = df_dummies[all_variables + [\"shotGeneratedRebound\"]]\n",
    "\n",
    "model_features = model_df[all_variables].values.tolist()\n",
    "model_labels = model_df[labels].values.tolist()\n",
    "\n",
    "# Convert to lists\n",
    "features=model_features\n",
    "labels=model_labels\n",
    "\n",
    "# Split into training and testing sets -> 80/20\n",
    "features_train, features_test, labels_train, labels_test = train_test_split(features, labels, test_size=.2, random_state=42)\n",
    "\n",
    "# Fix Data\n",
    "features_train, labels_train = np.array(features_train), np.array(labels_train).ravel()"
   ]
  },
  {
   "cell_type": "code",
   "execution_count": null,
   "id": "0c11e7e6-94f0-41ae-be9c-57f97432c2ba",
   "metadata": {},
   "outputs": [],
   "source": [
    "xreb_predict = xreb.predict_proba(features)"
   ]
  },
  {
   "cell_type": "code",
   "execution_count": null,
   "id": "473693c1-8895-439a-b37a-3d475ccf00ad",
   "metadata": {
    "tags": []
   },
   "outputs": [],
   "source": [
    "# Create dataframe of probabilities\n",
    "\n",
    "xrebs=data[['shotGeneratedRebound', 'shotID']]\n",
    "xrebounds=pd.DataFrame(xreb_predict, columns=['0','1'])\n",
    "xrebs=xrebs.join(xrebounds, how='right')\n",
    "xrebs.dropna(inplace=True)\n",
    "xrebs=xrebs.rename(columns={\"0\":\"xNotRebound\",\"1\":\"xRebound\"})\n",
    "xrebs=xrebs.drop(columns=[\"shotGeneratedRebound\", \"xNotRebound\", \"shotID\"])\n",
    "xgboost_xg=xrebs.join(xgboost_xg, how='left')\n",
    "xgboost_xg['RSAx'] = xgboost_xg['xRebound'] - xgboost_xg['shotGeneratedRebound']\n",
    "display(xgboost_xg)"
   ]
  },
  {
   "cell_type": "code",
   "execution_count": null,
   "id": "51fbda59-7f88-4079-9a22-a1282f1de695",
   "metadata": {
    "tags": []
   },
   "outputs": [],
   "source": [
    "# Create a GameScore for goalies\n",
    "\n",
    "game_score_xgb = xgboost_xg[['goalieNameForShot', 'goalieTeam', 'teamCode','xGoal', 'goal', 'GSAx', \"xRebound\", 'RSAx', 'season', 'game_id', 'shotWasOnGoal','shotGoalieFroze','shotRebound','shotRush']]\n",
    "game_score_xgb=game_score_xgb[game_score_xgb.goalieNameForShot != 'Empty']\n",
    "game_score_xgb=game_score_xgb.groupby(['goalieNameForShot', 'goalieTeam', 'teamCode','game_id','season']).sum()\n",
    "game_score_xgb['shotSaved']=game_score_xgb['shotWasOnGoal'] - game_score_xgb['goal']\n",
    "game_score_xgb['savePCT']=game_score_xgb['shotSaved']/game_score_xgb['shotWasOnGoal']\n",
    "game_score_xgb['xSvPCT'] = (game_score_xgb['shotWasOnGoal']-game_score_xgb['xGoal']) / game_score_xgb['shotWasOnGoal']\n",
    "game_score_xgb['SPAx'] = game_score_xgb['savePCT'] - game_score_xgb['xSvPCT']\n",
    "game_score_xgb['gameScore']=(-0.75*game_score_xgb['goal']) + (0.1*game_score_xgb['shotSaved']) + (0.3*game_score_xgb['GSAx'] + (0.05*game_score_xgb['RSAx']))\n",
    "game_score_xgb['GP']=1\n",
    "game_score_xgb=game_score_xgb.reset_index()\n",
    "game_score_xgb=game_score_xgb.astype({'season':'int64','game_id':'int64', 'goal':'int64','shotSaved':'int64','shotWasOnGoal':'int64'})\n",
    "display(game_score_xgb.style.format({'savePCT': \"{:.2%}\".format,'xSvPCT': \"{:.2%}\".format, 'SPAx':\"{:.2%}\".format}))"
   ]
  },
  {
   "cell_type": "code",
   "execution_count": null,
   "id": "535005db-3a79-415f-8023-60278c43183d",
   "metadata": {},
   "outputs": [],
   "source": [
    "individual = game_score_xgb[game_score_xgb.goalieNameForShot == \"\"]\n",
    "display(individual.sort_values(by=['game_id'], ascending=True).style.format({'savePCT': \"{:.2%}\",'xSvPCT': \"{:.2%}\", 'SPAx':\"{:.2%}\"}))"
   ]
  },
  {
   "cell_type": "code",
   "execution_count": null,
   "id": "16eff99c-0e8e-4305-96c9-042466e88f6a",
   "metadata": {},
   "outputs": [],
   "source": [
    "sns.scatterplot(\n",
    "    data=game_score_xgb, x=\"shotWasOnGoal\", y=\"shotRebound\", lw=3, markers=True,\n",
    "    sizes=(20, 250)\n",
    ")"
   ]
  },
  {
   "cell_type": "code",
   "execution_count": null,
   "id": "19259b04-d882-4f23-9e9a-3ff3eab0af0e",
   "metadata": {},
   "outputs": [],
   "source": [
    "# Create dataset grouped by game & shot ID's\n",
    "\n",
    "goalie_shot = xgboost_xg[['goalieNameForShot','shooterName', 'xGoal', 'goal', 'GSAx', 'game_id','shotID','shotType','shotWasOnGoal']]\n",
    "goalie_shot=goalie_shot.groupby(['goalieNameForShot','shooterName','game_id','shotID','shotType']).sum()\n",
    "goalie_shot=goalie_shot.reset_index()\n",
    "goalie_shot=goalie_shot[goalie_shot.goalieNameForShot != \"Empty\"]\n",
    "goalie_shot=goalie_shot.astype({'shotID':'int64','game_id':'int64', 'goal':'int64'})\n",
    "display(goalie_shot.groupby(['game_id','shotID','goalieNameForShot', 'shooterName','shotType']).sum().sort_values(by=['xGoal'], ascending=False))"
   ]
  },
  {
   "cell_type": "code",
   "execution_count": null,
   "id": "858b960e-38f8-45f6-8d8c-01e8f5957933",
   "metadata": {
    "tags": []
   },
   "outputs": [],
   "source": [
    "# Create season-level dataset for shooter xGoals\n",
    "\n",
    "shooter_xgb = xgboost_xg[['teamCode','shooterName','goalieNameForShot', 'xGoal', 'goal', 'GSAx', 'season', 'shot_attempt','shotWasOnGoal','shotType', 'shotGeneratedRebound','shotRush', 'shotRebound']]\n",
    "shooter_xgb=shooter_xgb.groupby(['teamCode','season','shooterName']).sum()\n",
    "shooter_xgb.drop(columns=['GSAx'], inplace=True)\n",
    "shooter_xgb['GoalsAboveExpected']=shooter_xgb['goal']-shooter_xgb['xGoal']\n",
    "shooter_xgb['ShootingPCT'] = shooter_xgb['goal']/shooter_xgb['shot_attempt']\n",
    "shooter_xgb['xShootingPCT'] = shooter_xgb['xGoal']/shooter_xgb['shot_attempt']\n",
    "shooter_xgb['sogPCT'] = shooter_xgb['shotWasOnGoal'] / shooter_xgb['shot_attempt']\n",
    "shooter_xgb.replace([np.inf, -np.inf], 0, inplace=True)\n",
    "shooter_xgb=shooter_xgb.sort_values(by=['GoalsAboveExpected'], ascending=False)\n",
    "shooter_xgb=shooter_xgb.reset_index()\n",
    "shooter_xgb=shooter_xgb.astype({'season':'int64','goal':'int64','shotWasOnGoal':'int64'})\n",
    "shooter_xgb = shooter_xgb.sort_values(by=['GoalsAboveExpected'], ascending=False)\n",
    "display(shooter_xgb)"
   ]
  },
  {
   "cell_type": "code",
   "execution_count": null,
   "id": "9b83fe5c-ef1f-4695-a427-9680775d41a8",
   "metadata": {},
   "outputs": [],
   "source": [
    "sns.scatterplot(\n",
    "    data=shooter_xgb, x=\"xGoal\", y=\"shotRebound\", hue=\"xGoal\",\n",
    "    sizes=(20, 250)\n",
    ")"
   ]
  },
  {
   "cell_type": "code",
   "execution_count": null,
   "id": "ac714837-08a2-4753-9688-c344eba77f39",
   "metadata": {},
   "outputs": [],
   "source": [
    "# Create game-level dataset for shooters\n",
    "\n",
    "shooter_game = xgboost_xg[['teamCode','shooterName', 'game_id', 'xGoal', 'goal', 'GSAx']]\n",
    "shooter_game=shooter_game.groupby(['teamCode','game_id','shooterName']).sum()\n",
    "shooter_game.drop(columns=['GSAx'], inplace=True)\n",
    "shooter_game['GoalsAboveExpected']=shooter_game['goal']-shooter_game['xGoal']\n",
    "shooter_game=shooter_game.reset_index()\n",
    "shooter_game=shooter_game.astype({'game_id':'int64','goal':'int64'})\n",
    "display(shooter_game.groupby(['game_id','teamCode','shooterName']).sum())"
   ]
  },
  {
   "cell_type": "code",
   "execution_count": null,
   "id": "af920613-a325-4bca-b498-5fad69ab55e5",
   "metadata": {},
   "outputs": [],
   "source": [
    "# Create game-level shooter v. goalie dataset\n",
    "\n",
    "shooter_shot = xgboost_xg[['teamCode','shooterName','goalieNameForShot', 'game_id', 'xGoal', 'goal', 'GSAx','shotType', 'shotWasOnGoal']]\n",
    "shooter_shot=shooter_shot.groupby(['teamCode','game_id','shooterName','goalieNameForShot','shotType']).sum()\n",
    "shooter_shot=shooter_shot.reset_index()\n",
    "shooter_shot=shooter_shot.astype({'game_id':'int64','goal':'int64', 'shotWasOnGoal':'int64'})\n",
    "display(shooter_shot.groupby(['game_id','shooterName','goalieNameForShot','shotType']).sum())"
   ]
  },
  {
   "cell_type": "code",
   "execution_count": null,
   "id": "8b5c7363-3c77-43a2-ba41-cd1c6458ff81",
   "metadata": {},
   "outputs": [],
   "source": [
    "# Create season-level GameScore dataset for goalies\n",
    "\n",
    "season_score=game_score_xgb[['goalieNameForShot','goalieTeam', 'season','xGoal', 'goal', 'GSAx', 'xRebound', 'RSAx', 'gameScore','GP', 'shotSaved', 'shotWasOnGoal', 'shotGoalieFroze','shotRush', 'shotRebound']]\n",
    "season_score=season_score.groupby(['goalieNameForShot','goalieTeam','season']).sum()\n",
    "season_score['gameScoreAVG']=season_score['gameScore']/season_score['GP']\n",
    "season_score.drop(columns=['gameScore'], inplace=True)\n",
    "season_score['savePCT']=season_score['shotSaved']/season_score['shotWasOnGoal']\n",
    "season_score['xSvPCT'] = (season_score['shotWasOnGoal']-season_score['xGoal']) / season_score['shotWasOnGoal']\n",
    "season_score['SPAx'] = season_score['savePCT'] - season_score['xSvPCT']\n",
    "season_score=season_score.astype({'shotSaved':'int64','shotWasOnGoal':'int64'})\n",
    "season_score=season_score.sort_values(by=['GSAx'], ascending=False)\n",
    "season_score=season_score.reset_index()\n",
    "display(season_score.style.format({'savePCT': \"{:.2%}\",'xSvPCT': \"{:.2%}\", 'SPAx':\"{:.2%}\"}))"
   ]
  },
  {
   "cell_type": "code",
   "execution_count": null,
   "id": "9fb5f5d9-db60-4663-b376-836979f208c5",
   "metadata": {},
   "outputs": [],
   "source": [
    "# team-level season stats\n",
    "\n",
    "team_xg = season_score[['goalieTeam', 'xGoal', 'goal', 'GSAx', 'season', 'shotWasOnGoal', 'shotSaved', 'shotGoalieFroze','shotRush', 'shotRebound']]\n",
    "team_xg = team_xg.rename(columns={'goalieTeam':'teamCode', 'goal':'GA', 'xGoal':'xGA', 'shotWasOnGoal':'sogAgainst', 'shotRush':'shotRushAgainst', 'shotRebound':'shotReboundAgainst'})\n",
    "team_xg = team_xg.groupby(['teamCode', 'season']).sum()\n",
    "team_xg1 = shooter_xgb[['teamCode', 'xGoal', 'goal', 'GoalsAboveExpected', 'season', 'shot_attempt','shotWasOnGoal', 'shotGeneratedRebound','shotRush', 'shotRebound']]\n",
    "team_xg1 = team_xg1.groupby(['teamCode', 'season']).sum()\n",
    "team_xg = team_xg.join(team_xg1, how='right')\n",
    "team_xg['xGPCT'] = team_xg['xGoal']/(team_xg['xGoal']+team_xg['xGA'])\n",
    "team_xg['aGPCT'] = team_xg['goal']/(team_xg['goal']+team_xg['GA'])\n",
    "team_xg['gPCTdiff'] = team_xg['aGPCT'] - team_xg['xGPCT']\n",
    "team_xg['shootingPCT'] = team_xg['goal'] / team_xg['shot_attempt']\n",
    "team_xg['xShootingPCT'] = team_xg['xGoal'] / team_xg['shot_attempt']\n",
    "team_xg['savePCT']=team_xg['shotSaved']/team_xg['sogAgainst']\n",
    "team_xg['xSvPCT'] = (team_xg['sogAgainst']-team_xg['xGoal']) / team_xg['sogAgainst']\n",
    "team_xg=team_xg.sort_values(by=['xGPCT'], ascending=False)\n",
    "team_xg=team_xg.astype({'shotSaved':'int64','sogAgainst':'int64'})\n",
    "team_xg=team_xg.reset_index()\n",
    "display(team_xg.style.format({'savePCT': \"{:.2%}\",'xSvPCT': \"{:.2%}\", 'xGPCT':\"{:.2%}\", 'aGPCT':\"{:.2%}\", 'gPCTdiff':\"{:.2%}\", 'shootingPCT':\"{:.2%}\", 'xShootingPCT':\"{:.2%}\"}))"
   ]
  },
  {
   "cell_type": "code",
   "execution_count": null,
   "id": "f84a4628-15cb-455e-b076-38abb47e4218",
   "metadata": {},
   "outputs": [],
   "source": [
    "sns.scatterplot(\n",
    "    data=season_score, x=\"savePCT\", y=\"GSAx\",\n",
    "    sizes=(20, 250),\n",
    ")"
   ]
  },
  {
   "cell_type": "code",
   "execution_count": null,
   "id": "36162f4e-f315-4c75-966a-ad54d6e64574",
   "metadata": {
    "tags": []
   },
   "outputs": [],
   "source": [
    "pip install hockey_rink"
   ]
  },
  {
   "cell_type": "code",
   "execution_count": null,
   "id": "6d2bdf7d-912e-4c66-91cf-8ba19b547f65",
   "metadata": {},
   "outputs": [],
   "source": [
    "from hockey_rink import NHLRink"
   ]
  },
  {
   "cell_type": "code",
   "execution_count": null,
   "id": "7a696a78-3b70-4c2a-9300-82ceef2ffc9e",
   "metadata": {},
   "outputs": [],
   "source": [
    "fig, axs = plt.subplots(1, 2, figsize=(14, 8))\n",
    "rink = NHLRink(rotation=270)\n",
    "for i in range(2):\n",
    "    rink.draw(ax=axs[i], display_range=\"ozone\")\n",
    "contour_img = rink.contourf(xgboost_xg.arenaAdjustedXCordABS, xgboost_xg.arenaAdjustedYCord, values=xgboost_xg.goal, ax=axs[0], cmap=\"bwr\", \n",
    "                            plot_range=\"ozone\", binsize=8, levels=75, statistic=\"sum\")\n",
    "plt.colorbar(contour_img, ax=axs[0], orientation=\"horizontal\")\n",
    "rink.heatmap(xgboost_xg.arenaAdjustedXCordABS, xgboost_xg.arenaAdjustedYCord, values=xgboost_xg.xGoal, ax=axs[1], cmap=\"magma\",\n",
    "             plot_xlim=(25, 89), statistic=\"sum\", vmax=50, binsize=5)"
   ]
  },
  {
   "cell_type": "code",
   "execution_count": null,
   "id": "88e7ef84-b96d-4381-8431-e3892f1fea8d",
   "metadata": {},
   "outputs": [],
   "source": []
  }
 ],
 "metadata": {
  "kernelspec": {
   "display_name": "Python 3 (ipykernel)",
   "language": "python",
   "name": "python3"
  },
  "language_info": {
   "codemirror_mode": {
    "name": "ipython",
    "version": 3
   },
   "file_extension": ".py",
   "mimetype": "text/x-python",
   "name": "python",
   "nbconvert_exporter": "python",
   "pygments_lexer": "ipython3",
   "version": "3.9.10"
  }
 },
 "nbformat": 4,
 "nbformat_minor": 5
}
